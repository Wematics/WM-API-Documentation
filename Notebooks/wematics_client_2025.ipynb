{
 "cells": [
  {
   "cell_type": "code",
   "execution_count": null,
   "metadata": {},
   "outputs": [],
   "source": [
    "!pip install wematics"
   ]
  },
  {
   "cell_type": "code",
   "execution_count": null,
   "metadata": {},
   "outputs": [],
   "source": [
    "from wematics import Pyranocam\n",
    "\n",
    "client = Pyranocam('TOKEN')\n",
    "cameras = client.list_cameras()\n",
    "camera = cameras['cameras'][0]\n",
    "print(\"Available cameras:\", cameras['cameras'])"
   ]
  },
  {
   "cell_type": "code",
   "execution_count": null,
   "metadata": {},
   "outputs": [],
   "source": [
    "variables = client.list_variables(camera)\n",
    "print(f\"Variables for {camera}:\", variables['variables'])"
   ]
  },
  {
   "cell_type": "code",
   "execution_count": null,
   "metadata": {},
   "outputs": [],
   "source": [
    "dates = client.list_dates(camera,\"HDR\")\n",
    "day = dates['dates'][-2]\n",
    "print(day)"
   ]
  },
  {
   "cell_type": "code",
   "execution_count": null,
   "metadata": {},
   "outputs": [],
   "source": [
    "files = client.list_files(camera,\"HDR\", day)\n",
    "print(files)\n",
    "file = files['files'][0]"
   ]
  },
  {
   "cell_type": "markdown",
   "metadata": {},
   "source": [
    "# List and download UTC"
   ]
  },
  {
   "cell_type": "code",
   "execution_count": null,
   "metadata": {},
   "outputs": [],
   "source": [
    "files = client.list_files(camera, 'HDR', day, 'utc') # utc or local\n",
    "file = files['files'][50]\n",
    "print(f\"Files for {camera}, HDR on {day}:\", files['files'])\n",
    "print(len(files['files']))"
   ]
  },
  {
   "cell_type": "code",
   "execution_count": null,
   "metadata": {},
   "outputs": [],
   "source": [
    "client.download_file(camera,'HDR', file, timezone='utc') # utc or local"
   ]
  },
  {
   "cell_type": "markdown",
   "metadata": {},
   "source": [
    "# List and download Local"
   ]
  },
  {
   "cell_type": "code",
   "execution_count": null,
   "metadata": {},
   "outputs": [],
   "source": [
    "files = client.list_files(camera, 'HDR', day, 'local') # utc or local\n",
    "file = files['files'][50]\n",
    "print(f\"Files for {camera}, HDR on {day}:\", files['files'])\n",
    "print(len(files['files']))"
   ]
  },
  {
   "cell_type": "code",
   "execution_count": null,
   "metadata": {},
   "outputs": [],
   "source": [
    "client.download_file(camera,'HDR',file, timezone='local')# utc or local"
   ]
  },
  {
   "cell_type": "markdown",
   "metadata": {},
   "source": [
    "# Download images between 17:00:00 and 22:00:00 UTC"
   ]
  },
  {
   "cell_type": "code",
   "execution_count": null,
   "metadata": {},
   "outputs": [],
   "source": [
    "start_datetime = '2025-02-18_17_00_00' \n",
    "end_datetime = '2025-02-18_17_05_00'\n",
    "client.download_files_in_range(camera, 'HDR', start_datetime, end_datetime,'',timezone='utc')\n",
    "print(f\"Files from {start_datetime} to {end_datetime} downloaded to ./downloads\")"
   ]
  },
  {
   "cell_type": "markdown",
   "metadata": {},
   "source": [
    "# Download csv files"
   ]
  },
  {
   "cell_type": "markdown",
   "metadata": {},
   "source": [
    "## UTC"
   ]
  },
  {
   "cell_type": "code",
   "execution_count": null,
   "metadata": {},
   "outputs": [],
   "source": [
    "files = client.list_files(camera,\"CC\", '2025-02-18')\n",
    "file = files['files'][0]\n",
    "print(file)"
   ]
  },
  {
   "cell_type": "code",
   "execution_count": null,
   "metadata": {},
   "outputs": [],
   "source": [
    "client.download_file(camera,\"CC\",file,'','utc') #utc or local"
   ]
  },
  {
   "cell_type": "code",
   "execution_count": null,
   "metadata": {},
   "outputs": [],
   "source": [
    "files = client.list_files(camera,\"GHI\", '2025-02-18')\n",
    "file = files['files'][0]\n",
    "print(file)"
   ]
  },
  {
   "cell_type": "code",
   "execution_count": null,
   "metadata": {},
   "outputs": [],
   "source": [
    "client.download_file(camera,\"GHI\",file,'','utc') #utc or local"
   ]
  },
  {
   "cell_type": "markdown",
   "metadata": {},
   "source": [
    "## Local"
   ]
  },
  {
   "cell_type": "code",
   "execution_count": null,
   "metadata": {},
   "outputs": [],
   "source": [
    "files = client.list_files(camera,\"CC\", '2025-02-18')\n",
    "print(files)\n",
    "file = files['files'][0]"
   ]
  },
  {
   "cell_type": "code",
   "execution_count": null,
   "metadata": {},
   "outputs": [],
   "source": [
    "client.download_file(camera,\"CC\",file,'','local') #utc or local"
   ]
  },
  {
   "cell_type": "code",
   "execution_count": null,
   "metadata": {},
   "outputs": [],
   "source": [
    "files = client.list_files(camera,\"GHI\", '2025-02-18')\n",
    "print(files)\n",
    "file = files['files'][0]"
   ]
  },
  {
   "cell_type": "code",
   "execution_count": null,
   "metadata": {},
   "outputs": [],
   "source": [
    "client.download_file(camera,\"GHI\",file,'','local') #utc or local"
   ]
  }
 ],
 "metadata": {
  "kernelspec": {
   "display_name": ".venv",
   "language": "python",
   "name": "python3"
  },
  "language_info": {
   "codemirror_mode": {
    "name": "ipython",
    "version": 3
   },
   "file_extension": ".py",
   "mimetype": "text/x-python",
   "name": "python",
   "nbconvert_exporter": "python",
   "pygments_lexer": "ipython3",
   "version": "3.10.12"
  }
 },
 "nbformat": 4,
 "nbformat_minor": 2
}
